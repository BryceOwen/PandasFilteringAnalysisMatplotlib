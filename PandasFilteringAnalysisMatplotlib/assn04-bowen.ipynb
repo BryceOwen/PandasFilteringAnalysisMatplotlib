{
 "cells": [
  {
   "cell_type": "markdown",
   "metadata": {},
   "source": [
    "# Assignment 4: Pandas"
   ]
  },
  {
   "cell_type": "markdown",
   "metadata": {},
   "source": [
    "* Section: Sec01\n",
    "    \n",
    "* Name: Bryce Owen\n",
    "    \n",
    "* Due date:  29 February 2020\n",
    "    \n",
    "* Purpose:  Pandas data filtering and analysis with groupby, crosstab, pivot_table and matplot lib"
   ]
  },
  {
   "cell_type": "code",
   "execution_count": 1,
   "metadata": {},
   "outputs": [],
   "source": [
    "import pandas as pd\n",
    "import matplotlib.pyplot as plt\n",
    "import numpy as np\n",
    "import seaborn as sns"
   ]
  },
  {
   "cell_type": "code",
   "execution_count": 2,
   "metadata": {},
   "outputs": [],
   "source": [
    "wage = pd.read_csv('http://barney.gonzaga.edu/~chuang/data/wage.csv')"
   ]
  },
  {
   "cell_type": "code",
   "execution_count": 3,
   "metadata": {},
   "outputs": [
    {
     "data": {
      "text/html": [
       "<div>\n",
       "<style scoped>\n",
       "    .dataframe tbody tr th:only-of-type {\n",
       "        vertical-align: middle;\n",
       "    }\n",
       "\n",
       "    .dataframe tbody tr th {\n",
       "        vertical-align: top;\n",
       "    }\n",
       "\n",
       "    .dataframe thead th {\n",
       "        text-align: right;\n",
       "    }\n",
       "</style>\n",
       "<table border=\"1\" class=\"dataframe\">\n",
       "  <thead>\n",
       "    <tr style=\"text-align: right;\">\n",
       "      <th></th>\n",
       "      <th>FirstName</th>\n",
       "      <th>LastName</th>\n",
       "      <th>MiddleName</th>\n",
       "      <th>Sex</th>\n",
       "      <th>Title</th>\n",
       "      <th>Department</th>\n",
       "      <th>BaseRate</th>\n",
       "      <th>Hours</th>\n",
       "    </tr>\n",
       "  </thead>\n",
       "  <tbody>\n",
       "    <tr>\n",
       "      <th>0</th>\n",
       "      <td>Guy</td>\n",
       "      <td>Gilbert</td>\n",
       "      <td>R</td>\n",
       "      <td>Male</td>\n",
       "      <td>Production Technician - WC60</td>\n",
       "      <td>Production</td>\n",
       "      <td>12.45</td>\n",
       "      <td>32</td>\n",
       "    </tr>\n",
       "    <tr>\n",
       "      <th>1</th>\n",
       "      <td>JoLynn</td>\n",
       "      <td>Dobney</td>\n",
       "      <td>M</td>\n",
       "      <td>Female</td>\n",
       "      <td>Production Supervisor - WC60</td>\n",
       "      <td>Production</td>\n",
       "      <td>25.00</td>\n",
       "      <td>33</td>\n",
       "    </tr>\n",
       "    <tr>\n",
       "      <th>2</th>\n",
       "      <td>Ruth</td>\n",
       "      <td>Ellerbrock</td>\n",
       "      <td>Ann</td>\n",
       "      <td>Male</td>\n",
       "      <td>Production Technician - WC10</td>\n",
       "      <td>Production</td>\n",
       "      <td>13.45</td>\n",
       "      <td>35</td>\n",
       "    </tr>\n",
       "    <tr>\n",
       "      <th>3</th>\n",
       "      <td>Barry</td>\n",
       "      <td>Johnson</td>\n",
       "      <td>K</td>\n",
       "      <td>Male</td>\n",
       "      <td>Production Technician - WC10</td>\n",
       "      <td>Production</td>\n",
       "      <td>13.45</td>\n",
       "      <td>40</td>\n",
       "    </tr>\n",
       "    <tr>\n",
       "      <th>4</th>\n",
       "      <td>Sidney</td>\n",
       "      <td>Higa</td>\n",
       "      <td>M</td>\n",
       "      <td>Male</td>\n",
       "      <td>Production Technician - WC10</td>\n",
       "      <td>Production</td>\n",
       "      <td>13.45</td>\n",
       "      <td>45</td>\n",
       "    </tr>\n",
       "  </tbody>\n",
       "</table>\n",
       "</div>"
      ],
      "text/plain": [
       "  FirstName    LastName MiddleName     Sex                         Title  \\\n",
       "0       Guy     Gilbert          R    Male  Production Technician - WC60   \n",
       "1    JoLynn      Dobney          M  Female  Production Supervisor - WC60   \n",
       "2      Ruth  Ellerbrock        Ann    Male  Production Technician - WC10   \n",
       "3     Barry     Johnson          K    Male  Production Technician - WC10   \n",
       "4    Sidney        Higa          M    Male  Production Technician - WC10   \n",
       "\n",
       "   Department  BaseRate  Hours  \n",
       "0  Production     12.45     32  \n",
       "1  Production     25.00     33  \n",
       "2  Production     13.45     35  \n",
       "3  Production     13.45     40  \n",
       "4  Production     13.45     45  "
      ]
     },
     "execution_count": 3,
     "metadata": {},
     "output_type": "execute_result"
    }
   ],
   "source": [
    "wage.head()"
   ]
  },
  {
   "cell_type": "markdown",
   "metadata": {},
   "source": [
    "## No groupby(), crosstab(), or pivot_table()"
   ]
  },
  {
   "cell_type": "code",
   "execution_count": 23,
   "metadata": {},
   "outputs": [
    {
     "data": {
      "text/plain": [
       "10"
      ]
     },
     "execution_count": 23,
     "metadata": {},
     "output_type": "execute_result"
    }
   ],
   "source": [
    "#How many employees are in the Finance department?\n",
    "\n",
    "wage[wage['Department'] == 'Finance'].count()[0]"
   ]
  },
  {
   "cell_type": "code",
   "execution_count": 7,
   "metadata": {},
   "outputs": [
    {
     "data": {
      "text/plain": [
       "37.79"
      ]
     },
     "execution_count": 7,
     "metadata": {},
     "output_type": "execute_result"
    }
   ],
   "source": [
    "# What is the mean of working hours of employees in the Production department?  \n",
    "\n",
    "round(wage[wage['Department'] == 'Production']['Hours'].mean(),2)"
   ]
  },
  {
   "cell_type": "code",
   "execution_count": 22,
   "metadata": {},
   "outputs": [
    {
     "data": {
      "text/plain": [
       "16"
      ]
     },
     "execution_count": 22,
     "metadata": {},
     "output_type": "execute_result"
    }
   ],
   "source": [
    "# How many male employees are in the Sales department?\n",
    "\n",
    "wage[(wage['Department'] == 'Sales') & (wage['Sex'] == 'Male')].count()[0]"
   ]
  },
  {
   "cell_type": "code",
   "execution_count": 19,
   "metadata": {},
   "outputs": [
    {
     "data": {
      "text/plain": [
       "496.8"
      ]
     },
     "execution_count": 19,
     "metadata": {},
     "output_type": "execute_result"
    }
   ],
   "source": [
    "# What is the mean of weekly wages of female employees in the Marketing department?\n",
    "\n",
    "wage = wage.assign(WeeklyWages = wage['BaseRate'] * wage['Hours'])\n",
    "round(wage[(wage['Department'] == 'Marketing') & (wage['Sex'] == 'Female')]['WeeklyWages'].mean(),2)"
   ]
  },
  {
   "cell_type": "markdown",
   "metadata": {},
   "source": [
    "## Groupby(), crosstab(), or pivot_table() allowed"
   ]
  },
  {
   "cell_type": "code",
   "execution_count": 25,
   "metadata": {},
   "outputs": [
    {
     "data": {
      "text/html": [
       "<div>\n",
       "<style scoped>\n",
       "    .dataframe tbody tr th:only-of-type {\n",
       "        vertical-align: middle;\n",
       "    }\n",
       "\n",
       "    .dataframe tbody tr th {\n",
       "        vertical-align: top;\n",
       "    }\n",
       "\n",
       "    .dataframe thead th {\n",
       "        text-align: right;\n",
       "    }\n",
       "</style>\n",
       "<table border=\"1\" class=\"dataframe\">\n",
       "  <thead>\n",
       "    <tr style=\"text-align: right;\">\n",
       "      <th></th>\n",
       "      <th>WeeklyWages</th>\n",
       "    </tr>\n",
       "    <tr>\n",
       "      <th>Sex</th>\n",
       "      <th></th>\n",
       "    </tr>\n",
       "  </thead>\n",
       "  <tbody>\n",
       "    <tr>\n",
       "      <th>Female</th>\n",
       "      <td>36652.192</td>\n",
       "    </tr>\n",
       "    <tr>\n",
       "      <th>Male</th>\n",
       "      <td>168600.804</td>\n",
       "    </tr>\n",
       "  </tbody>\n",
       "</table>\n",
       "</div>"
      ],
      "text/plain": [
       "        WeeklyWages\n",
       "Sex                \n",
       "Female    36652.192\n",
       "Male     168600.804"
      ]
     },
     "execution_count": 25,
     "metadata": {},
     "output_type": "execute_result"
    }
   ],
   "source": [
    "# What are the totals of weekly wages of female and male employees?\n",
    "\n",
    "wage.groupby('Sex')[['WeeklyWages']].sum()    "
   ]
  },
  {
   "cell_type": "code",
   "execution_count": 29,
   "metadata": {},
   "outputs": [
    {
     "data": {
      "text/html": [
       "<div>\n",
       "<style scoped>\n",
       "    .dataframe tbody tr th:only-of-type {\n",
       "        vertical-align: middle;\n",
       "    }\n",
       "\n",
       "    .dataframe tbody tr th {\n",
       "        vertical-align: top;\n",
       "    }\n",
       "\n",
       "    .dataframe thead th {\n",
       "        text-align: right;\n",
       "    }\n",
       "</style>\n",
       "<table border=\"1\" class=\"dataframe\">\n",
       "  <thead>\n",
       "    <tr style=\"text-align: right;\">\n",
       "      <th>Sex</th>\n",
       "      <th>Female</th>\n",
       "      <th>Male</th>\n",
       "    </tr>\n",
       "    <tr>\n",
       "      <th>Department</th>\n",
       "      <th></th>\n",
       "      <th></th>\n",
       "    </tr>\n",
       "  </thead>\n",
       "  <tbody>\n",
       "    <tr>\n",
       "      <th>Human Resources</th>\n",
       "      <td>3</td>\n",
       "      <td>3</td>\n",
       "    </tr>\n",
       "    <tr>\n",
       "      <th>Marketing</th>\n",
       "      <td>3</td>\n",
       "      <td>7</td>\n",
       "    </tr>\n",
       "    <tr>\n",
       "      <th>Production</th>\n",
       "      <td>31</td>\n",
       "      <td>148</td>\n",
       "    </tr>\n",
       "  </tbody>\n",
       "</table>\n",
       "</div>"
      ],
      "text/plain": [
       "Sex              Female  Male\n",
       "Department                   \n",
       "Human Resources       3     3\n",
       "Marketing             3     7\n",
       "Production           31   148"
      ]
     },
     "execution_count": 29,
     "metadata": {},
     "output_type": "execute_result"
    }
   ],
   "source": [
    "# What are the numbers of male and female employees in the Marketing, Production, and Human Resources Departments? \n",
    "\n",
    "wage_MPHR = wage[(wage['Department'] == 'Marketing') | (wage['Department'] == 'Production') | (wage['Department'] == 'Human Resources')]\n",
    "pd.crosstab(index = wage_MPHR['Department'], columns = wage_MPHR['Sex'], values = wage_MPHR['LastName'], aggfunc = 'count')"
   ]
  },
  {
   "cell_type": "code",
   "execution_count": 34,
   "metadata": {},
   "outputs": [
    {
     "data": {
      "text/html": [
       "<div>\n",
       "<style scoped>\n",
       "    .dataframe tbody tr th:only-of-type {\n",
       "        vertical-align: middle;\n",
       "    }\n",
       "\n",
       "    .dataframe tbody tr th {\n",
       "        vertical-align: top;\n",
       "    }\n",
       "\n",
       "    .dataframe thead th {\n",
       "        text-align: right;\n",
       "    }\n",
       "</style>\n",
       "<table border=\"1\" class=\"dataframe\">\n",
       "  <thead>\n",
       "    <tr style=\"text-align: right;\">\n",
       "      <th></th>\n",
       "      <th>WeeklyWages</th>\n",
       "    </tr>\n",
       "    <tr>\n",
       "      <th>Department</th>\n",
       "      <th></th>\n",
       "    </tr>\n",
       "  </thead>\n",
       "  <tbody>\n",
       "    <tr>\n",
       "      <th>Engineering</th>\n",
       "      <td>1542.064500</td>\n",
       "    </tr>\n",
       "    <tr>\n",
       "      <th>Marketing</th>\n",
       "      <td>643.081000</td>\n",
       "    </tr>\n",
       "    <tr>\n",
       "      <th>Production</th>\n",
       "      <td>534.797486</td>\n",
       "    </tr>\n",
       "  </tbody>\n",
       "</table>\n",
       "</div>"
      ],
      "text/plain": [
       "             WeeklyWages\n",
       "Department              \n",
       "Engineering  1542.064500\n",
       "Marketing     643.081000\n",
       "Production    534.797486"
      ]
     },
     "execution_count": 34,
     "metadata": {},
     "output_type": "execute_result"
    }
   ],
   "source": [
    "# What are the means of weekly wages of the Marketing, Production and Engineering departments?\n",
    "\n",
    "wage_MPE = wage[(wage['Department'] == 'Marketing') | (wage['Department'] == 'Production') | (wage['Department'] == 'Engineering')]\n",
    "wage_MPE.pivot_table(index = 'Department', values = 'WeeklyWages', aggfunc = 'mean')"
   ]
  },
  {
   "cell_type": "code",
   "execution_count": 37,
   "metadata": {},
   "outputs": [
    {
     "data": {
      "text/html": [
       "<div>\n",
       "<style scoped>\n",
       "    .dataframe tbody tr th:only-of-type {\n",
       "        vertical-align: middle;\n",
       "    }\n",
       "\n",
       "    .dataframe tbody tr th {\n",
       "        vertical-align: top;\n",
       "    }\n",
       "\n",
       "    .dataframe thead th {\n",
       "        text-align: right;\n",
       "    }\n",
       "</style>\n",
       "<table border=\"1\" class=\"dataframe\">\n",
       "  <thead>\n",
       "    <tr style=\"text-align: right;\">\n",
       "      <th>Sex</th>\n",
       "      <th>Female</th>\n",
       "      <th>Male</th>\n",
       "    </tr>\n",
       "    <tr>\n",
       "      <th>Department</th>\n",
       "      <th></th>\n",
       "      <th></th>\n",
       "    </tr>\n",
       "  </thead>\n",
       "  <tbody>\n",
       "    <tr>\n",
       "      <th>Document Control</th>\n",
       "      <td>NaN</td>\n",
       "      <td>2962.030</td>\n",
       "    </tr>\n",
       "    <tr>\n",
       "      <th>Engineering</th>\n",
       "      <td>2475.018</td>\n",
       "      <td>6777.369</td>\n",
       "    </tr>\n",
       "    <tr>\n",
       "      <th>Executive</th>\n",
       "      <td>NaN</td>\n",
       "      <td>9025.200</td>\n",
       "    </tr>\n",
       "    <tr>\n",
       "      <th>Facilities and Maintenance</th>\n",
       "      <td>693.750</td>\n",
       "      <td>2901.113</td>\n",
       "    </tr>\n",
       "    <tr>\n",
       "      <th>Finance</th>\n",
       "      <td>2629.029</td>\n",
       "      <td>6837.132</td>\n",
       "    </tr>\n",
       "    <tr>\n",
       "      <th>Human Resources</th>\n",
       "      <td>1909.796</td>\n",
       "      <td>1940.836</td>\n",
       "    </tr>\n",
       "    <tr>\n",
       "      <th>Information Services</th>\n",
       "      <td>1850.488</td>\n",
       "      <td>9536.135</td>\n",
       "    </tr>\n",
       "    <tr>\n",
       "      <th>Marketing</th>\n",
       "      <td>1490.398</td>\n",
       "      <td>4940.412</td>\n",
       "    </tr>\n",
       "    <tr>\n",
       "      <th>Production</th>\n",
       "      <td>16622.200</td>\n",
       "      <td>79106.550</td>\n",
       "    </tr>\n",
       "    <tr>\n",
       "      <th>Production Control</th>\n",
       "      <td>NaN</td>\n",
       "      <td>4940.252</td>\n",
       "    </tr>\n",
       "    <tr>\n",
       "      <th>Purchasing</th>\n",
       "      <td>4406.991</td>\n",
       "      <td>5840.741</td>\n",
       "    </tr>\n",
       "    <tr>\n",
       "      <th>Quality Assurance</th>\n",
       "      <td>465.388</td>\n",
       "      <td>3177.900</td>\n",
       "    </tr>\n",
       "    <tr>\n",
       "      <th>Research and Development</th>\n",
       "      <td>1593.735</td>\n",
       "      <td>5172.675</td>\n",
       "    </tr>\n",
       "    <tr>\n",
       "      <th>Sales</th>\n",
       "      <td>1823.083</td>\n",
       "      <td>18439.207</td>\n",
       "    </tr>\n",
       "    <tr>\n",
       "      <th>Shipping and Receiving</th>\n",
       "      <td>692.316</td>\n",
       "      <td>1698.500</td>\n",
       "    </tr>\n",
       "    <tr>\n",
       "      <th>Tool Design</th>\n",
       "      <td>NaN</td>\n",
       "      <td>5304.752</td>\n",
       "    </tr>\n",
       "  </tbody>\n",
       "</table>\n",
       "</div>"
      ],
      "text/plain": [
       "Sex                            Female       Male\n",
       "Department                                      \n",
       "Document Control                  NaN   2962.030\n",
       "Engineering                  2475.018   6777.369\n",
       "Executive                         NaN   9025.200\n",
       "Facilities and Maintenance    693.750   2901.113\n",
       "Finance                      2629.029   6837.132\n",
       "Human Resources              1909.796   1940.836\n",
       "Information Services         1850.488   9536.135\n",
       "Marketing                    1490.398   4940.412\n",
       "Production                  16622.200  79106.550\n",
       "Production Control                NaN   4940.252\n",
       "Purchasing                   4406.991   5840.741\n",
       "Quality Assurance             465.388   3177.900\n",
       "Research and Development     1593.735   5172.675\n",
       "Sales                        1823.083  18439.207\n",
       "Shipping and Receiving        692.316   1698.500\n",
       "Tool Design                       NaN   5304.752"
      ]
     },
     "execution_count": 37,
     "metadata": {},
     "output_type": "execute_result"
    }
   ],
   "source": [
    "# What are the totals of weekly wages of male and female employees across departments using Pivot_table()?\n",
    "\n",
    "wage.pivot_table(index = 'Department', columns = 'Sex', values = 'WeeklyWages', aggfunc = 'sum')"
   ]
  },
  {
   "cell_type": "markdown",
   "metadata": {},
   "source": [
    "# Matplotlib"
   ]
  },
  {
   "cell_type": "code",
   "execution_count": 59,
   "metadata": {},
   "outputs": [
    {
     "data": {
      "text/plain": [
       "<BarContainer object of 2 artists>"
      ]
     },
     "execution_count": 59,
     "metadata": {},
     "output_type": "execute_result"
    },
    {
     "data": {
      "image/png": "[encoded data removed]",
      "text/plain": [
       "<Figure size 432x288 with 1 Axes>"
      ]
     },
     "metadata": {
      "needs_background": "light"
     },
     "output_type": "display_data"
    }
   ],
   "source": [
    "# How are mean wages different between females and males?  \n",
    "\n",
    "mean_wages = wage['WeeklyWages'].groupby(wage['Sex']).mean()\n",
    "x1 = mean_wages.index\n",
    "y1 = mean_wages.values\n",
    "plt.bar(x1, y1, align = 'center', color = 'red')"
   ]
  },
  {
   "cell_type": "code",
   "execution_count": 57,
   "metadata": {},
   "outputs": [
    {
     "data": {
      "text/plain": [
       "<BarContainer object of 16 artists>"
      ]
     },
     "execution_count": 57,
     "metadata": {},
     "output_type": "execute_result"
    },
    {
     "data": {
      "image/png": "[encoded data removed]",
      "text/plain": [
       "<Figure size 432x288 with 1 Axes>"
      ]
     },
     "metadata": {
      "needs_background": "light"
     },
     "output_type": "display_data"
    }
   ],
   "source": [
    "# How are mean wages different between departments?  \n",
    "\n",
    "mean_wages = wage['WeeklyWages'].groupby(wage['Department']).mean()\n",
    "x1 = mean_wages.index\n",
    "y1 = mean_wages.values\n",
    "plt.barh(x1,y1, align = 'center', color = 'red')"
   ]
  },
  {
   "cell_type": "code",
   "execution_count": null,
   "metadata": {},
   "outputs": [],
   "source": []
  }
 ],
 "metadata": {
  "kernelspec": {
   "display_name": "Python 3",
   "language": "python",
   "name": "python3"
  },
  "language_info": {
   "codemirror_mode": {
    "name": "ipython",
    "version": 3
   },
   "file_extension": ".py",
   "mimetype": "text/x-python",
   "name": "python",
   "nbconvert_exporter": "python",
   "pygments_lexer": "ipython3",
   "version": "3.7.3"
  }
 },
 "nbformat": 4,
 "nbformat_minor": 2
}
